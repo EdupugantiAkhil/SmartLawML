{
 "cells": [
  {
   "cell_type": "code",
   "execution_count": 36,
   "metadata": {},
   "outputs": [],
   "source": [
    "import numpy as np\n",
    "import os\n",
    "import time\n",
    "import pandas as pd\n",
    "import re\n",
    "import json\n",
    "import keras\n",
    "import glob\n",
    "\n",
    "from sklearn.feature_extraction.text import TfidfVectorizer\n",
    "from sklearn.model_selection import StratifiedShuffleSplit\n",
    "from sklearn.metrics import classification_report, confusion_matrix"
   ]
  },
  {
   "cell_type": "code",
   "execution_count": 37,
   "metadata": {},
   "outputs": [],
   "source": [
    "# Build the corpus and sequences\n",
    "labelToName = { 0 : 'PREMISE', 1 : 'CONCLUSION' }\n",
    "namesInLabelOrder = ['PREMISE', 'CONCLUSION']\n",
    "#os.chdir('E:\\git\\SmartLawML\\work-area')\n",
    "#df=pd.read_csv('preprocessed.csv')\n",
    "\n",
    "#X=df.text.tolist()\n",
    "#labels=df.loc[:,['label']]"
   ]
  },
  {
   "cell_type": "code",
   "execution_count": 38,
   "metadata": {},
   "outputs": [],
   "source": [
    "train_files = glob.glob(\"E:/git/SmartLawDataset/json/*.json\")\n",
    "\n",
    "mergejson=pd.DataFrame()\n",
    "for file in train_files:\n",
    "    #print(file)\n",
    "    with open(file,encoding=\"utf8\") as f1: \n",
    "        data1 = json.load(f1)\n",
    "    df1=pd.DataFrame([data1])\n",
    "    mergejson=pd.concat([mergejson,df1])\n",
    "mg1=mergejson.drop(['header','background','order','footer','annotationProcessingStage','annotationProcessingStageAnnotations','processedText'], axis=1)\n",
    "X=[]\n",
    "labels=[]\n",
    "for j in mg1['arguments']:\n",
    "        for k in j:           \n",
    "            for p in k['argumentSentences']:                \n",
    "                if(p['argumentSentenceType']=='NA'):\n",
    "                    continue\n",
    "                X.append(p['text'])\n",
    "                labels.append(p['argumentSentenceType'])\n",
    "                "
   ]
  },
  {
   "cell_type": "code",
   "execution_count": 39,
   "metadata": {},
   "outputs": [
    {
     "name": "stdout",
     "output_type": "stream",
     "text": [
      "[2] Perused the application and say filed by the I.O. Heard the Ld. Counsel for the Applicant and Ld. APP for the State.\n"
     ]
    }
   ],
   "source": [
    "print(X[0])"
   ]
  },
  {
   "cell_type": "code",
   "execution_count": 40,
   "metadata": {},
   "outputs": [],
   "source": [
    "def preprocess(temp):\n",
    "    temp=re.sub(\"\\s\\s+\",\" \",temp)    #Replacing multiple spaces with one\n",
    "    temp=temp.replace(u'\\xa0', ' ').encode('utf-8')  #Replacing non-breaking space    \n",
    "    temp=temp.decode().split(' ')    #Converting a string into list of words seperated by space charcter\n",
    "    return temp\n",
    "\n",
    "#print(X[1])\n",
    "X = [preprocess(t) for t in X]  \n",
    "#print(\"\\n\\n\\n After Preprocess:\\n\\n\",X[1])\n"
   ]
  },
  {
   "cell_type": "code",
   "execution_count": 41,
   "metadata": {},
   "outputs": [
    {
     "name": "stdout",
     "output_type": "stream",
     "text": [
      "Max sequence length: 3076\n"
     ]
    }
   ],
   "source": [
    "sss = StratifiedShuffleSplit(n_splits=1, test_size=0.2, random_state=1).split(X, labels)\n",
    "train_indices, test_indices = next(sss)\n",
    "\n",
    "def seqlengths(l):\n",
    "    if isinstance(l,list):\n",
    "        yield len(l)\n",
    "        for y in l:\n",
    "            yield from seqlengths(y)\n",
    "\n",
    "maxsequenceLength=max(seqlengths(X))\n",
    "print(\"Max sequence length:\",maxsequenceLength)"
   ]
  },
  {
   "cell_type": "code",
   "execution_count": 42,
   "metadata": {},
   "outputs": [
    {
     "name": "stdout",
     "output_type": "stream",
     "text": [
      "Shape Before Padding: (22,)\n",
      "\n",
      "Shape After Padding: (3076,)\n",
      "\n",
      " nWords: 5051\n"
     ]
    },
    {
     "name": "stderr",
     "output_type": "stream",
     "text": [
      "C:\\Users\\abc\\AppData\\Local\\Temp\\ipykernel_4528\\199922491.py:4: VisibleDeprecationWarning: Creating an ndarray from ragged nested sequences (which is a list-or-tuple of lists-or-tuples-or ndarrays with different lengths or shapes) is deprecated. If you meant to do this, you must specify 'dtype=object' when creating the ndarray.\n",
      "  Xencoded = np.array([np.array(xi) for xi in kTokenizer.texts_to_sequences(X)])\n"
     ]
    }
   ],
   "source": [
    "# Encode the documents\n",
    "kTokenizer = keras.preprocessing.text.Tokenizer() \n",
    "kTokenizer.fit_on_texts(X)\n",
    "Xencoded = np.array([np.array(xi) for xi in kTokenizer.texts_to_sequences(X)])                \n",
    "\n",
    "print(\"Shape Before Padding:\",np.shape(Xencoded[22]))\n",
    "Xencoded=keras.preprocessing.sequence.pad_sequences(Xencoded, maxlen=maxsequenceLength, truncating='post')\n",
    "print(\"\\nShape After Padding:\",np.shape(Xencoded[22]))\n",
    "\n",
    "labels = np.array(labels)\n",
    "\n",
    "nWords=len(kTokenizer.word_index)\n",
    "print(\"\\n nWords:\",nWords)"
   ]
  },
  {
   "cell_type": "code",
   "execution_count": 44,
   "metadata": {},
   "outputs": [
    {
     "name": "stdout",
     "output_type": "stream",
     "text": [
      "\n",
      "\n",
      "Confusion Matrix:\n",
      " [[ 55  33]\n",
      " [  3 525]]\n",
      "\n",
      "\n",
      "Classification Report:\n",
      "\n",
      "               precision    recall  f1-score   support\n",
      "\n",
      "     PREMISE     0.9483    0.6250    0.7534        88\n",
      "  CONCLUSION     0.9409    0.9943    0.9669       528\n",
      "\n",
      "    accuracy                         0.9416       616\n",
      "   macro avg     0.9446    0.8097    0.8601       616\n",
      "weighted avg     0.9419    0.9416    0.9364       616\n",
      "\n"
     ]
    }
   ],
   "source": [
    "vectorizer = TfidfVectorizer(analyzer=lambda x: x, min_df=1).fit(X)\n",
    "Xencoded=vectorizer.transform(X)\n",
    "\n",
    "from sklearn.linear_model import LogisticRegression\n",
    "results = {}\n",
    "model = LogisticRegression()\n",
    "train_x = Xencoded[train_indices]\n",
    "test_x = Xencoded[test_indices]\n",
    "train_labels = labels[train_indices]\n",
    "test_labels = labels[test_indices]\n",
    "model.fit(train_x, train_labels)\n",
    "predicted_labels = model.predict(test_x)\n",
    "results['confusion_matrix'] = confusion_matrix(labels[test_indices], predicted_labels).tolist()\n",
    "results['classification_report'] = classification_report(labels[test_indices], predicted_labels, digits=4, target_names=namesInLabelOrder, output_dict=True)\n",
    "print (\"\\n\\nConfusion Matrix:\\n\",confusion_matrix(labels[test_indices], predicted_labels))\n",
    "print (\"\\n\\nClassification Report:\\n\\n\",classification_report(labels[test_indices], predicted_labels, digits=4, target_names=namesInLabelOrder))\n",
    "\n"
   ]
  }
 ],
 "metadata": {
  "kernelspec": {
   "display_name": "Python 3 (ipykernel)",
   "language": "python",
   "name": "python3"
  },
  "language_info": {
   "codemirror_mode": {
    "name": "ipython",
    "version": 3
   },
   "file_extension": ".py",
   "mimetype": "text/x-python",
   "name": "python",
   "nbconvert_exporter": "python",
   "pygments_lexer": "ipython3",
   "version": "3.10.4"
  }
 },
 "nbformat": 4,
 "nbformat_minor": 4
}
