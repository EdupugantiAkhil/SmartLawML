{
 "cells": [
  {
   "cell_type": "code",
   "execution_count": 1,
   "metadata": {
    "_cell_guid": "b1076dfc-b9ad-4769-8c92-a6c4dae69d19",
    "_uuid": "8f2839f25d086af736a60e9eeb907d3b93b6e0e5",
    "execution": {
     "iopub.execute_input": "2022-05-08T19:15:17.368198Z",
     "iopub.status.busy": "2022-05-08T19:15:17.367983Z",
     "iopub.status.idle": "2022-05-08T19:15:17.373788Z",
     "shell.execute_reply": "2022-05-08T19:15:17.372986Z",
     "shell.execute_reply.started": "2022-05-08T19:15:17.368171Z"
    }
   },
   "outputs": [],
   "source": [
    "import json\n",
    "import glob\n",
    "import numpy as np\n",
    "import pandas as pd\n",
    "import csv\n",
    "import string\n",
    "import re\n",
    "import math\n",
    "import sklearn as sk\n",
    "import nltk\n",
    "import heapq\n",
    "import matplotlib.pyplot as plt\n",
    "import pickle"
   ]
  },
  {
   "cell_type": "markdown",
   "metadata": {},
   "source": [
    "**IMPORTING AND GETTING ALL LIBRARIES**"
   ]
  },
  {
   "cell_type": "markdown",
   "metadata": {},
   "source": [
    "Link to download dataset: https://github.com/avadhutshelar/SmartLawDataset"
   ]
  },
  {
   "cell_type": "code",
   "execution_count": 2,
   "metadata": {
    "execution": {
     "iopub.execute_input": "2022-05-08T19:15:17.375582Z",
     "iopub.status.busy": "2022-05-08T19:15:17.375150Z",
     "iopub.status.idle": "2022-05-08T19:15:17.386550Z",
     "shell.execute_reply": "2022-05-08T19:15:17.385961Z",
     "shell.execute_reply.started": "2022-05-08T19:15:17.375540Z"
    }
   },
   "outputs": [],
   "source": [
    "from sklearn.pipeline import Pipeline\n",
    "from sklearn import svm\n",
    "from sklearn.model_selection import cross_val_score\n",
    "from sklearn.model_selection import learning_curve\n",
    "from sklearn.linear_model import LogisticRegression\n",
    "from sklearn.feature_extraction.text import CountVectorizer\n",
    "from sklearn.feature_extraction.text import TfidfVectorizer\n",
    "from sklearn.feature_extraction.text import TfidfTransformer\n",
    "from sklearn.metrics import accuracy_score\n",
    "from sklearn.naive_bayes import GaussianNB\n",
    "from sklearn.model_selection import train_test_split\n",
    "from nltk.corpus import stopwords\n",
    "from nltk import pos_tag\n",
    "from sklearn.svm import SVC\n",
    "from sklearn.model_selection import learning_curve\n",
    "from sklearn import preprocessing\n",
    "from sklearn.model_selection import StratifiedKFold\n",
    "import seaborn as sns"
   ]
  },
  {
   "cell_type": "code",
   "execution_count": 3,
   "metadata": {
    "execution": {
     "iopub.execute_input": "2022-05-08T19:15:17.387827Z",
     "iopub.status.busy": "2022-05-08T19:15:17.387597Z",
     "iopub.status.idle": "2022-05-08T19:15:17.405817Z",
     "shell.execute_reply": "2022-05-08T19:15:17.405000Z",
     "shell.execute_reply.started": "2022-05-08T19:15:17.387799Z"
    }
   },
   "outputs": [],
   "source": [
    "#LOCATE EXACT LOCATION OF ALL JSON FILES IN KAGGLE LOCAL SETUP\n",
    "train_files = glob.glob(\"E:/git/SmartLawDataset/json/*.json\")"
   ]
  },
  {
   "cell_type": "markdown",
   "metadata": {},
   "source": [
    "**EXTRACTING THE REQUIRED TEXT AND GETTING THEM INTO PROPER FORMAT**"
   ]
  },
  {
   "cell_type": "code",
   "execution_count": 4,
   "metadata": {
    "execution": {
     "iopub.execute_input": "2022-05-08T19:15:17.407630Z",
     "iopub.status.busy": "2022-05-08T19:15:17.407226Z",
     "iopub.status.idle": "2022-05-08T19:15:17.718789Z",
     "shell.execute_reply": "2022-05-08T19:15:17.717915Z",
     "shell.execute_reply.started": "2022-05-08T19:15:17.407600Z"
    }
   },
   "outputs": [],
   "source": [
    "#EXTRACT INDIVIDUAL FILES AND GET THEM INTO SINGLE DATAFRAME\n",
    "df_final=pd.DataFrame()\n",
    "for file in train_files:\n",
    "    with open(file,encoding=\"utf8\") as f1: \n",
    "        data=json.load(f1) #ALL DATA FROM FILE LOADED INTO DATA\n",
    "        df=pd.DataFrame([data]) #CREATE DATAFRAME FOR SINGLE DATA\n",
    "        df_final=pd.concat([df_final,df]) #MERGE ALL INDIVIDUAL DATAFRAME INTO SINGLE DATAFRAME\n",
    "#MAIN AIM IS TO GENERATE ML ALGO TO DETERMINE ARGUMENT TEXT AND ARGUMENT BY SO REMOVE REST\n",
    "df_final=df_final.drop(['header','background','order','footer','annotationProcessingStage','annotationProcessingStageAnnotations','processedText'],axis=1)\n",
    "#AXIS=1 REMOVE COLUMNS"
   ]
  },
  {
   "cell_type": "code",
   "execution_count": 5,
   "metadata": {
    "execution": {
     "iopub.execute_input": "2022-05-08T19:15:17.720514Z",
     "iopub.status.busy": "2022-05-08T19:15:17.720227Z",
     "iopub.status.idle": "2022-05-08T19:15:17.735900Z",
     "shell.execute_reply": "2022-05-08T19:15:17.735004Z",
     "shell.execute_reply.started": "2022-05-08T19:15:17.720475Z"
    }
   },
   "outputs": [
    {
     "name": "stdout",
     "output_type": "stream",
     "text": [
      "                                                  text          by\n",
      "0    Perused the application and say filed by the I...       JUDGE\n",
      "1    The prosecution case is that on 03.12.2018 at ...  RESPONDENT\n",
      "2    The Ld. Counsel for Applicant stated that the ...   APPLICANT\n",
      "3    The Ld. APP for the State submitted that, ther...  RESPONDENT\n",
      "4    After hearing the submissions of both the side...       JUDGE\n",
      "..                                                 ...         ...\n",
      "601  Applicant Ramesh Valmiki is a clerk working in...  RESPONDENT\n",
      "602  Advocate for applicants in their argument stat...   APPLICANT\n",
      "603  Advocate for applicant in their argument furth...   APPLICANT\n",
      "604  Ld. DGP strongly opposed this application. It ...  RESPONDENT\n",
      "605  The offence is serious. In collusion with reve...       JUDGE\n",
      "\n",
      "[606 rows x 2 columns]\n"
     ]
    }
   ],
   "source": [
    "data1=[]\n",
    "data2=[]\n",
    "df_final1=pd.DataFrame();\n",
    "for j in df_final['arguments']:\n",
    "    for k in j:\n",
    "        s=k['text'][3:]\n",
    "        data1.append(s.strip())\n",
    "        data2.append(k['argumentBy'])\n",
    "df_final1['text']=data1\n",
    "df_final1['by']=data2\n",
    "#Use df_final1 dataframe only for further processes and not csv files to ensure encoding is in proper format\n",
    "print(df_final1)"
   ]
  },
  {
   "cell_type": "code",
   "execution_count": 6,
   "metadata": {
    "execution": {
     "iopub.execute_input": "2022-05-08T19:15:17.739084Z",
     "iopub.status.busy": "2022-05-08T19:15:17.737444Z",
     "iopub.status.idle": "2022-05-08T19:15:23.934829Z",
     "shell.execute_reply": "2022-05-08T19:15:23.933964Z",
     "shell.execute_reply.started": "2022-05-08T19:15:17.739049Z"
    }
   },
   "outputs": [],
   "source": [
    "s =  set(string.punctuation)\n",
    "s.add('\\xad')\n",
    "for index, row in df_final1.iterrows():\n",
    "    for x in row['text']:\n",
    "        row['text']=row['text'].lower()\n",
    "#         print(row['text'])\n",
    "        if x in s or re.search(r'-?\\d+', x): \n",
    "            row['text']=row['text'].replace(x,\"\")\n",
    "#Now we have proper dataset after removing unwanted punctuations etc\n",
    "bag_of_words=[]\n",
    "los=[]\n",
    "for item in df_final1['text']:\n",
    "    los.append(item)\n",
    "    for word in item.split():\n",
    "        bag_of_words.append(word)"
   ]
  },
  {
   "cell_type": "markdown",
   "metadata": {},
   "source": [
    "Wordset containing all words.\n",
    "create dic for freq of all words in doc.\n",
    "calculate tf.\n"
   ]
  },
  {
   "cell_type": "markdown",
   "metadata": {},
   "source": [
    "**CREATING VECTORS FOR TEXTS IN ORDER TO GIVE THEM AS INPUT TO ML MODEL**"
   ]
  },
  {
   "cell_type": "code",
   "execution_count": 7,
   "metadata": {
    "execution": {
     "iopub.execute_input": "2022-05-08T19:15:23.936518Z",
     "iopub.status.busy": "2022-05-08T19:15:23.936276Z",
     "iopub.status.idle": "2022-05-08T19:15:23.997683Z",
     "shell.execute_reply": "2022-05-08T19:15:23.996953Z",
     "shell.execute_reply.started": "2022-05-08T19:15:23.936488Z"
    }
   },
   "outputs": [],
   "source": [
    "dict_1={}\n",
    "for index,row in df_final1.iterrows():\n",
    "    for word in row['text'].split():\n",
    "        if word in dict_1:\n",
    "            dict_1[word]+=1\n",
    "        else:\n",
    "            dict_1[word]=1"
   ]
  },
  {
   "cell_type": "code",
   "execution_count": 8,
   "metadata": {
    "execution": {
     "iopub.execute_input": "2022-05-08T19:15:23.999229Z",
     "iopub.status.busy": "2022-05-08T19:15:23.998836Z",
     "iopub.status.idle": "2022-05-08T19:15:24.004769Z",
     "shell.execute_reply": "2022-05-08T19:15:24.003984Z",
     "shell.execute_reply.started": "2022-05-08T19:15:23.999194Z"
    }
   },
   "outputs": [],
   "source": [
    "# Calculate term_freq\n",
    "def compute_term_frequency(word_dictionary, bag_of_words):\n",
    "    term_frequency_dictionary = {}\n",
    "    length_of_bag_of_words = len(bag_of_words)\n",
    "\n",
    "    for word, count in word_dictionary.items():\n",
    "        term_frequency_dictionary[word] = count / float(length_of_bag_of_words)\n",
    "\n",
    "    return term_frequency_dictionary"
   ]
  },
  {
   "cell_type": "code",
   "execution_count": 9,
   "metadata": {
    "execution": {
     "iopub.execute_input": "2022-05-08T19:15:24.006714Z",
     "iopub.status.busy": "2022-05-08T19:15:24.006016Z",
     "iopub.status.idle": "2022-05-08T19:15:24.051162Z",
     "shell.execute_reply": "2022-05-08T19:15:24.050073Z",
     "shell.execute_reply.started": "2022-05-08T19:15:24.006663Z"
    }
   },
   "outputs": [],
   "source": [
    "dict_2={}\n",
    "dict_3={}\n",
    "for item in los:\n",
    "    for word in item.split():\n",
    "        if word in dict_2 and word not in dict_3:\n",
    "            dict_2[word]+=1\n",
    "            dict_3[word]=1\n",
    "        else:\n",
    "            if word not in dict_2:\n",
    "                dict_2[word]=1\n",
    "                dict_3[word]=1\n",
    "    dict_3.clear()"
   ]
  },
  {
   "cell_type": "code",
   "execution_count": 10,
   "metadata": {
    "execution": {
     "iopub.execute_input": "2022-05-08T19:15:24.052832Z",
     "iopub.status.busy": "2022-05-08T19:15:24.052411Z",
     "iopub.status.idle": "2022-05-08T19:15:24.067951Z",
     "shell.execute_reply": "2022-05-08T19:15:24.066968Z",
     "shell.execute_reply.started": "2022-05-08T19:15:24.052801Z"
    }
   },
   "outputs": [],
   "source": [
    "#Calculate inverse doc_freq\n",
    "def compute_inverse_document_frequency(full_doc_list):\n",
    "    idf_dict = {}\n",
    "    length_of_doc_list = len(full_doc_list)\n",
    "\n",
    "    idf_dict = dict.fromkeys(full_doc_list.keys(), 0)\n",
    "    for word, value in idf_dict.items():\n",
    "        idf_dict[word] = math.log(length_of_doc_list / (float(value) + 1))\n",
    "\n",
    "    return idf_dict\n",
    "\n",
    "final_idf_dict = compute_inverse_document_frequency(dict_2)"
   ]
  },
  {
   "cell_type": "code",
   "execution_count": 11,
   "metadata": {
    "execution": {
     "iopub.execute_input": "2022-05-08T19:15:24.070267Z",
     "iopub.status.busy": "2022-05-08T19:15:24.069482Z",
     "iopub.status.idle": "2022-05-08T19:15:24.874792Z",
     "shell.execute_reply": "2022-05-08T19:15:24.873887Z",
     "shell.execute_reply.started": "2022-05-08T19:15:24.070230Z"
    }
   },
   "outputs": [],
   "source": [
    "#Create a TFIDF vectorizer to generate text entered into vector form to be given as input to Machine Learning model\n",
    "vectorizer = TfidfVectorizer()\n",
    "vectors = vectorizer.fit_transform(los)\n",
    "feature_names = vectorizer.get_feature_names_out() #Extract the feature names as columns for the texts\n",
    "dense = vectors.todense()\n",
    "denselist = dense.tolist()\n",
    "df_end = pd.DataFrame(denselist, columns=feature_names)\n",
    "df_end['By']=df_final1['by']"
   ]
  },
  {
   "cell_type": "code",
   "execution_count": 12,
   "metadata": {
    "execution": {
     "iopub.execute_input": "2022-05-08T19:15:24.876270Z",
     "iopub.status.busy": "2022-05-08T19:15:24.876024Z",
     "iopub.status.idle": "2022-05-08T19:15:24.889505Z",
     "shell.execute_reply": "2022-05-08T19:15:24.888860Z",
     "shell.execute_reply.started": "2022-05-08T19:15:24.876241Z"
    }
   },
   "outputs": [],
   "source": [
    "y=df_end.By\n",
    "x=df_end[feature_names]\n",
    "# Setting up x and y coordinates\n",
    "# x.head()"
   ]
  },
  {
   "cell_type": "markdown",
   "metadata": {},
   "source": [
    "**PERFORMING TRAIN TEST SPLIT AND EVALUATING ACCURACIES FOR VARIOUS MODELS**"
   ]
  },
  {
   "cell_type": "code",
   "execution_count": 13,
   "metadata": {
    "execution": {
     "iopub.execute_input": "2022-05-08T19:15:24.891645Z",
     "iopub.status.busy": "2022-05-08T19:15:24.890874Z",
     "iopub.status.idle": "2022-05-08T19:15:24.914479Z",
     "shell.execute_reply": "2022-05-08T19:15:24.913878Z",
     "shell.execute_reply.started": "2022-05-08T19:15:24.891595Z"
    }
   },
   "outputs": [
    {
     "data": {
      "text/plain": [
       "((454, 3660), (152, 3660))"
      ]
     },
     "execution_count": 13,
     "metadata": {},
     "output_type": "execute_result"
    }
   ],
   "source": [
    "X_train, X_test, y_train, y_test = train_test_split(x, y, test_size = 0.25, random_state = 0)\n",
    "# check the shape of X_train and X_test\n",
    "X_train.shape, X_test.shape"
   ]
  },
  {
   "cell_type": "code",
   "execution_count": 14,
   "metadata": {
    "execution": {
     "iopub.execute_input": "2022-05-08T19:15:24.916272Z",
     "iopub.status.busy": "2022-05-08T19:15:24.915811Z",
     "iopub.status.idle": "2022-05-08T19:15:24.985434Z",
     "shell.execute_reply": "2022-05-08T19:15:24.984818Z",
     "shell.execute_reply.started": "2022-05-08T19:15:24.916230Z"
    }
   },
   "outputs": [
    {
     "data": {
      "text/plain": [
       "GaussianNB()"
      ]
     },
     "execution_count": 14,
     "metadata": {},
     "output_type": "execute_result"
    }
   ],
   "source": [
    "gnb = GaussianNB()\n",
    "gnb.fit(X_train, y_train)"
   ]
  },
  {
   "cell_type": "code",
   "execution_count": 15,
   "metadata": {
    "execution": {
     "iopub.execute_input": "2022-05-08T19:15:24.987534Z",
     "iopub.status.busy": "2022-05-08T19:15:24.987002Z",
     "iopub.status.idle": "2022-05-08T19:15:25.099671Z",
     "shell.execute_reply": "2022-05-08T19:15:25.098810Z",
     "shell.execute_reply.started": "2022-05-08T19:15:24.987492Z"
    }
   },
   "outputs": [],
   "source": [
    "y_pred = gnb.predict(X_test)\n",
    "y_pred_train = gnb.predict(X_train)"
   ]
  },
  {
   "cell_type": "code",
   "execution_count": 16,
   "metadata": {
    "execution": {
     "iopub.execute_input": "2022-05-08T19:15:25.101573Z",
     "iopub.status.busy": "2022-05-08T19:15:25.101260Z",
     "iopub.status.idle": "2022-05-08T19:15:25.108817Z",
     "shell.execute_reply": "2022-05-08T19:15:25.107809Z",
     "shell.execute_reply.started": "2022-05-08T19:15:25.101521Z"
    }
   },
   "outputs": [
    {
     "name": "stdout",
     "output_type": "stream",
     "text": [
      "Model accuracy score using TF_IDF- GNB for predicting argument by: 0.6250\n"
     ]
    }
   ],
   "source": [
    "print('Model accuracy score using TF_IDF- GNB for predicting argument by: {0:0.4f}'. format(accuracy_score(y_test, y_pred)))"
   ]
  },
  {
   "cell_type": "code",
   "execution_count": 17,
   "metadata": {
    "execution": {
     "iopub.execute_input": "2022-05-08T19:15:25.110432Z",
     "iopub.status.busy": "2022-05-08T19:15:25.110124Z",
     "iopub.status.idle": "2022-05-08T19:15:25.450541Z",
     "shell.execute_reply": "2022-05-08T19:15:25.449751Z",
     "shell.execute_reply.started": "2022-05-08T19:15:25.110400Z"
    }
   },
   "outputs": [
    {
     "data": {
      "text/plain": [
       "SVC(kernel='linear')"
      ]
     },
     "execution_count": 17,
     "metadata": {},
     "output_type": "execute_result"
    }
   ],
   "source": [
    "from sklearn.svm import SVC\n",
    "svclassifier = SVC(kernel='linear')\n",
    "svclassifier.fit(X_train, y_train)"
   ]
  },
  {
   "cell_type": "code",
   "execution_count": 18,
   "metadata": {
    "execution": {
     "iopub.execute_input": "2022-05-08T19:15:25.451756Z",
     "iopub.status.busy": "2022-05-08T19:15:25.451531Z",
     "iopub.status.idle": "2022-05-08T19:15:25.572228Z",
     "shell.execute_reply": "2022-05-08T19:15:25.570790Z",
     "shell.execute_reply.started": "2022-05-08T19:15:25.451721Z"
    }
   },
   "outputs": [],
   "source": [
    "y_pred = svclassifier.predict(X_test)"
   ]
  },
  {
   "cell_type": "code",
   "execution_count": 19,
   "metadata": {
    "execution": {
     "iopub.execute_input": "2022-05-08T19:15:25.574380Z",
     "iopub.status.busy": "2022-05-08T19:15:25.573959Z",
     "iopub.status.idle": "2022-05-08T19:15:25.583601Z",
     "shell.execute_reply": "2022-05-08T19:15:25.582782Z",
     "shell.execute_reply.started": "2022-05-08T19:15:25.574331Z"
    }
   },
   "outputs": [
    {
     "name": "stdout",
     "output_type": "stream",
     "text": [
      "Model accuracy score using TF_IDF- SVC for predicing argument by: 0.9013\n"
     ]
    }
   ],
   "source": [
    "print('Model accuracy score using TF_IDF- SVC for predicing argument by: {0:0.4f}'. format(accuracy_score(y_test, y_pred)))"
   ]
  },
  {
   "cell_type": "code",
   "execution_count": 20,
   "metadata": {
    "execution": {
     "iopub.execute_input": "2022-05-08T19:15:25.585898Z",
     "iopub.status.busy": "2022-05-08T19:15:25.585392Z",
     "iopub.status.idle": "2022-05-08T19:15:25.645979Z",
     "shell.execute_reply": "2022-05-08T19:15:25.643734Z",
     "shell.execute_reply.started": "2022-05-08T19:15:25.585853Z"
    }
   },
   "outputs": [
    {
     "data": {
      "text/plain": [
       "KNeighborsClassifier()"
      ]
     },
     "execution_count": 20,
     "metadata": {},
     "output_type": "execute_result"
    }
   ],
   "source": [
    "from sklearn.neighbors import KNeighborsClassifier  \n",
    "classifier= KNeighborsClassifier(n_neighbors=5, metric='minkowski', p=2 )  \n",
    "classifier.fit(X_train, y_train)  "
   ]
  },
  {
   "cell_type": "code",
   "execution_count": 21,
   "metadata": {
    "execution": {
     "iopub.execute_input": "2022-05-08T19:15:25.648158Z",
     "iopub.status.busy": "2022-05-08T19:15:25.647411Z",
     "iopub.status.idle": "2022-05-08T19:15:25.724062Z",
     "shell.execute_reply": "2022-05-08T19:15:25.722743Z",
     "shell.execute_reply.started": "2022-05-08T19:15:25.648111Z"
    }
   },
   "outputs": [],
   "source": [
    "y_pred= classifier.predict(X_test) "
   ]
  },
  {
   "cell_type": "code",
   "execution_count": 22,
   "metadata": {
    "execution": {
     "iopub.execute_input": "2022-05-08T19:15:25.726287Z",
     "iopub.status.busy": "2022-05-08T19:15:25.725921Z",
     "iopub.status.idle": "2022-05-08T19:15:25.740004Z",
     "shell.execute_reply": "2022-05-08T19:15:25.734732Z",
     "shell.execute_reply.started": "2022-05-08T19:15:25.726242Z"
    }
   },
   "outputs": [
    {
     "name": "stdout",
     "output_type": "stream",
     "text": [
      "Model accuracy score using TF_IDF- KNN for predicting argument by: 0.7697\n"
     ]
    }
   ],
   "source": [
    "print('Model accuracy score using TF_IDF- KNN for predicting argument by: {0:0.4f}'. format(accuracy_score(y_test, y_pred)))"
   ]
  },
  {
   "cell_type": "markdown",
   "metadata": {},
   "source": [
    "**UNDERSTANDING THE ACCURACIES AND VALIDATION LOSSES AS DATASET SIZE INCREASES TO KNOW OVERFITTING IF ANY**"
   ]
  },
  {
   "cell_type": "code",
   "execution_count": 23,
   "metadata": {
    "execution": {
     "iopub.execute_input": "2022-05-08T19:15:25.742625Z",
     "iopub.status.busy": "2022-05-08T19:15:25.742029Z",
     "iopub.status.idle": "2022-05-08T19:15:25.762842Z",
     "shell.execute_reply": "2022-05-08T19:15:25.761778Z",
     "shell.execute_reply.started": "2022-05-08T19:15:25.742568Z"
    }
   },
   "outputs": [],
   "source": [
    "def learn_curve(X,y,c):\n",
    "    le = preprocessing.LabelEncoder() # Label encoding the target\n",
    "    sc = preprocessing.StandardScaler() # Scaling the input features\n",
    "    y = le.fit_transform(y)#Label Encoding the target\n",
    "    log_reg = LogisticRegression(max_iter=200,random_state=11,C=c)\n",
    "    lr = Pipeline(steps=(['scaler',sc],\n",
    "                        ['classifier',log_reg]))\n",
    "    \n",
    "    \n",
    "    cv = StratifiedKFold(n_splits=5,random_state=11,shuffle=True) # Creating a StratifiedKFold object with 5 folds\n",
    "    cv_scores = cross_val_score(lr,X,y,scoring=\"accuracy\",cv=cv) # Storing the CV scores (accuracy) of each fold\n",
    "    lr.fit(X,y) # Fitting the model\n",
    "    train_score = lr.score(X,y) # Scoring the model on train set\n",
    "    #Building the learning curve\n",
    "    train_size,train_scores,test_scores = learning_curve(estimator=lr,X=X,y=y,cv=cv,scoring=\"accuracy\",random_state=11)\n",
    "    train_scores = 1-np.mean(train_scores,axis=1)#converting the accuracy score to misclassification rate\n",
    "    test_scores = 1-np.mean(test_scores,axis=1)#converting the accuracy score to misclassification rate\n",
    "    lc = pd.DataFrame({\"Training_size\":train_size,\"Training_loss\":train_scores,\"Validation_loss\":test_scores}).melt(id_vars=\"Training_size\")\n",
    "    return {\"cv_scores\":cv_scores,\n",
    "           \"train_score\":train_score,\n",
    "           \"learning_curve\":lc}"
   ]
  },
  {
   "cell_type": "code",
   "execution_count": 24,
   "metadata": {
    "execution": {
     "iopub.execute_input": "2022-05-08T19:15:25.765759Z",
     "iopub.status.busy": "2022-05-08T19:15:25.765031Z",
     "iopub.status.idle": "2022-05-08T19:15:53.620292Z",
     "shell.execute_reply": "2022-05-08T19:15:53.619466Z",
     "shell.execute_reply.started": "2022-05-08T19:15:25.765706Z"
    }
   },
   "outputs": [
    {
     "name": "stdout",
     "output_type": "stream",
     "text": [
      "Cross Validation Accuracies:\n",
      "-------------------------\n",
      "[0.8524590163934426, 0.8512396694214877, 0.768595041322314, 0.859504132231405, 0.8925619834710744]\n",
      "\n",
      "Mean Cross Validation Accuracy:\n",
      "-------------------------\n",
      "0.8448719685679447\n",
      "\n",
      "Standard Deviation of Cross Validation Accuracy:\n",
      "-------------------------\n",
      "0.040999312857258614\n",
      "\n",
      "Training Accuracy:\n",
      "---------------\n",
      "1.0\n",
      "\n",
      "\n"
     ]
    },
    {
     "data": {
      "image/png": "[encoded data removed]",
      "text/plain": [
       "<Figure size 432x288 with 1 Axes>"
      ]
     },
     "metadata": {
      "needs_background": "light"
     },
     "output_type": "display_data"
    }
   ],
   "source": [
    "lc = learn_curve(x,y,1)\n",
    "print(f'Cross Validation Accuracies:\\n{\"-\"*25}\\n{list(lc[\"cv_scores\"])}\\n\\n\\\n",
    "Mean Cross Validation Accuracy:\\n{\"-\"*25}\\n{np.mean(lc[\"cv_scores\"])}\\n\\n\\\n",
    "Standard Deviation of Cross Validation Accuracy:\\n{\"-\"*25}\\n{np.std(lc[\"cv_scores\"])}\\n\\n\\\n",
    "Training Accuracy:\\n{\"-\"*15}\\n{lc[\"train_score\"]}\\n\\n')\n",
    "sns.lineplot(data=lc[\"learning_curve\"],x=\"Training_size\",y=\"value\",hue=\"variable\")\n",
    "plt.title(\"Learning Curve of Model\")\n",
    "plt.ylabel(\"Misclassification Rate/Loss\");"
   ]
  },
  {
   "cell_type": "markdown",
   "metadata": {},
   "source": [
    "**Above graph shows the miscalculation v/s training size.\n",
    "We see that as training dataset size increases, validation loss/miscalculation decreases and thus we can infer that we need more dataset for better prediction results**"
   ]
  },
  {
   "cell_type": "code",
   "execution_count": 25,
   "metadata": {
    "execution": {
     "iopub.execute_input": "2022-05-08T19:15:53.621729Z",
     "iopub.status.busy": "2022-05-08T19:15:53.621418Z",
     "iopub.status.idle": "2022-05-08T19:15:54.314937Z",
     "shell.execute_reply": "2022-05-08T19:15:54.314350Z",
     "shell.execute_reply.started": "2022-05-08T19:15:53.621695Z"
    }
   },
   "outputs": [
    {
     "data": {
      "text/plain": [
       "SVC()"
      ]
     },
     "execution_count": 25,
     "metadata": {},
     "output_type": "execute_result"
    }
   ],
   "source": [
    "# Create an object of SVC model and fit x,y values in it in order to generate pickle file\n",
    "model_svm_argby=svm.SVC()\n",
    "model_svm_argby.fit(x.values,y)"
   ]
  },
  {
   "cell_type": "code",
   "execution_count": 26,
   "metadata": {
    "execution": {
     "iopub.execute_input": "2022-05-08T19:15:54.316622Z",
     "iopub.status.busy": "2022-05-08T19:15:54.316078Z",
     "iopub.status.idle": "2022-05-08T19:15:54.327135Z",
     "shell.execute_reply": "2022-05-08T19:15:54.326320Z",
     "shell.execute_reply.started": "2022-05-08T19:15:54.316587Z"
    }
   },
   "outputs": [
    {
     "data": {
      "text/plain": [
       "KNeighborsClassifier()"
      ]
     },
     "execution_count": 26,
     "metadata": {},
     "output_type": "execute_result"
    }
   ],
   "source": [
    "# Create an object of KNN model and fit x,y values in it in order to generate pickle file\n",
    "model_knn_argby=KNeighborsClassifier(n_neighbors=5, metric='minkowski', p=2 )  \n",
    "model_knn_argby.fit(x.values,y)"
   ]
  },
  {
   "cell_type": "code",
   "execution_count": 27,
   "metadata": {
    "execution": {
     "iopub.execute_input": "2022-05-08T19:15:54.328631Z",
     "iopub.status.busy": "2022-05-08T19:15:54.328419Z",
     "iopub.status.idle": "2022-05-08T19:15:54.373909Z",
     "shell.execute_reply": "2022-05-08T19:15:54.373311Z",
     "shell.execute_reply.started": "2022-05-08T19:15:54.328605Z"
    }
   },
   "outputs": [
    {
     "data": {
      "text/plain": [
       "GaussianNB()"
      ]
     },
     "execution_count": 27,
     "metadata": {},
     "output_type": "execute_result"
    }
   ],
   "source": [
    "# Create an object of GNB model and fit x,y values in it in order to generate pickle file\n",
    "model_gnb_argby=GaussianNB()\n",
    "model_gnb_argby.fit(x.values,y)"
   ]
  },
  {
   "cell_type": "markdown",
   "metadata": {},
   "source": [
    "**GENERATION OF PICKLE FILES FOR ML MODEL**"
   ]
  },
  {
   "cell_type": "code",
   "execution_count": 28,
   "metadata": {
    "execution": {
     "iopub.execute_input": "2022-05-08T19:15:54.375433Z",
     "iopub.status.busy": "2022-05-08T19:15:54.375072Z",
     "iopub.status.idle": "2022-05-08T19:15:54.443451Z",
     "shell.execute_reply": "2022-05-08T19:15:54.442356Z",
     "shell.execute_reply.started": "2022-05-08T19:15:54.375390Z"
    }
   },
   "outputs": [],
   "source": [
    "# Creation of pickle file for svm model to predict argument by\n",
    "model_file = \"model_svm_argby.pkl\"\n",
    "with open(model_file,'wb') as f:\n",
    "    pickle.dump(model_svm_argby, f)\n",
    "    \n",
    "# Creation of pickle file for knn model to predict argument by\n",
    "model_file = \"model_knn_argby.pkl\"\n",
    "with open(model_file,'wb') as f:\n",
    "    pickle.dump(model_knn_argby, f)\n",
    "    \n",
    "# Creation of pickle file for gnb model to predict argument by\n",
    "model_file = \"model_gnb_argby.pkl\"\n",
    "with open(model_file,'wb') as f:\n",
    "    pickle.dump(model_gnb_argby, f)"
   ]
  },
  {
   "cell_type": "code",
   "execution_count": 29,
   "metadata": {
    "execution": {
     "iopub.execute_input": "2022-05-08T19:15:54.446092Z",
     "iopub.status.busy": "2022-05-08T19:15:54.445490Z",
     "iopub.status.idle": "2022-05-08T19:15:54.451852Z",
     "shell.execute_reply": "2022-05-08T19:15:54.451298Z",
     "shell.execute_reply.started": "2022-05-08T19:15:54.446046Z"
    }
   },
   "outputs": [],
   "source": [
    "# Creation of pickle file for vectorizer to get the text into vector form for prediction using Machine Learning\n",
    "model_file=\"model_vect_argby.pkl\"\n",
    "with open(model_file,'wb') as f:\n",
    "    pickle.dump(vectorizer, f)"
   ]
  },
  {
   "cell_type": "markdown",
   "metadata": {},
   "source": [
    "**PREDICTING THE ARGUMENT BY FOR GIVEN TEXT**"
   ]
  },
  {
   "cell_type": "code",
   "execution_count": 30,
   "metadata": {
    "execution": {
     "iopub.execute_input": "2022-05-08T19:15:54.453674Z",
     "iopub.status.busy": "2022-05-08T19:15:54.452911Z",
     "iopub.status.idle": "2022-05-08T19:15:54.466941Z",
     "shell.execute_reply": "2022-05-08T19:15:54.466322Z",
     "shell.execute_reply.started": "2022-05-08T19:15:54.453636Z"
    }
   },
   "outputs": [],
   "source": [
    "loaded_model_vect = pickle.load(open(\"model_vect_argby.pkl\", 'rb'))\n",
    "X_vec=loaded_model_vect.transform([\"heard learned advocate mr waghmare for the applicant\"])"
   ]
  },
  {
   "cell_type": "code",
   "execution_count": 32,
   "metadata": {
    "execution": {
     "iopub.execute_input": "2022-05-08T19:15:54.468363Z",
     "iopub.status.busy": "2022-05-08T19:15:54.468107Z",
     "iopub.status.idle": "2022-05-08T19:15:54.486113Z",
     "shell.execute_reply": "2022-05-08T19:15:54.485311Z",
     "shell.execute_reply.started": "2022-05-08T19:15:54.468333Z"
    }
   },
   "outputs": [
    {
     "name": "stdout",
     "output_type": "stream",
     "text": [
      "JUDGE\n"
     ]
    }
   ],
   "source": [
    "loaded_model_argby = pickle.load(open(\"E:/git/SmartLawML/models/model_svm_argby.pkl\", 'rb'))\n",
    "o1 = loaded_model_argby.predict(X_vec.toarray())[0]\n",
    "print(o1)"
   ]
  },
  {
   "cell_type": "code",
   "execution_count": null,
   "metadata": {},
   "outputs": [],
   "source": []
  }
 ],
 "metadata": {
  "kernelspec": {
   "display_name": "Python 3 (ipykernel)",
   "language": "python",
   "name": "python3"
  },
  "language_info": {
   "codemirror_mode": {
    "name": "ipython",
    "version": 3
   },
   "file_extension": ".py",
   "mimetype": "text/x-python",
   "name": "python",
   "nbconvert_exporter": "python",
   "pygments_lexer": "ipython3",
   "version": "3.10.4"
  }
 },
 "nbformat": 4,
 "nbformat_minor": 4
}
